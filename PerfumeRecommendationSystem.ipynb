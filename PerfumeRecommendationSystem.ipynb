{
 "cells": [
  {
   "cell_type": "code",
   "execution_count": 10,
   "id": "9489b475",
   "metadata": {},
   "outputs": [
    {
     "ename": "ModuleNotFoundError",
     "evalue": "No module named 'skillsnetwork'",
     "output_type": "error",
     "traceback": [
      "\u001b[1;31m---------------------------------------------------------------------------\u001b[0m",
      "\u001b[1;31mModuleNotFoundError\u001b[0m                       Traceback (most recent call last)",
      "Cell \u001b[1;32mIn[10], line 16\u001b[0m\n\u001b[0;32m     12\u001b[0m \u001b[38;5;28;01mfrom\u001b[39;00m \u001b[38;5;21;01msentence_transformers\u001b[39;00m \u001b[38;5;28;01mimport\u001b[39;00m SentenceTransformer\n\u001b[0;32m     13\u001b[0m \u001b[38;5;28;01mfrom\u001b[39;00m \u001b[38;5;21;01msentence_transformers\u001b[39;00m \u001b[38;5;28;01mimport\u001b[39;00m util\n\u001b[1;32m---> 16\u001b[0m \u001b[38;5;28;01mimport\u001b[39;00m \u001b[38;5;21;01mskillsnetwork\u001b[39;00m\n\u001b[0;32m     18\u001b[0m sns\u001b[38;5;241m.\u001b[39mset_context(\u001b[38;5;124m'\u001b[39m\u001b[38;5;124mnotebook\u001b[39m\u001b[38;5;124m'\u001b[39m)\n\u001b[0;32m     19\u001b[0m sns\u001b[38;5;241m.\u001b[39mset_style(\u001b[38;5;124m'\u001b[39m\u001b[38;5;124mwhite\u001b[39m\u001b[38;5;124m'\u001b[39m)\n",
      "\u001b[1;31mModuleNotFoundError\u001b[0m: No module named 'skillsnetwork'"
     ]
    }
   ],
   "source": [
    "import warnings\n",
    "warnings.filterwarnings('ignore')\n",
    "\n",
    "import numpy as np\n",
    "from numpy.linalg import norm\n",
    "import pandas as pd\n",
    "import matplotlib.pyplot as plt\n",
    "import seaborn as sns\n",
    "%matplotlib inline\n",
    "\n",
    "from sklearn.decomposition import PCA\n",
    "from sentence_transformers import SentenceTransformer\n",
    "from sentence_transformers import util\n",
    "\n",
    "\n",
    "import skillsnetwork\n",
    "\n",
    "sns.set_context('notebook')\n",
    "sns.set_style('white')"
   ]
  },
  {
   "cell_type": "code",
   "execution_count": 6,
   "id": "286a9e11",
   "metadata": {},
   "outputs": [
    {
     "name": "stdout",
     "output_type": "stream",
     "text": [
      "Requirement already satisfied: sentence-transformers in c:\\users\\adity\\appdata\\local\\programs\\python\\python310\\lib\\site-packages (2.2.2)\n",
      "Requirement already satisfied: transformers<5.0.0,>=4.6.0 in c:\\users\\adity\\appdata\\local\\programs\\python\\python310\\lib\\site-packages (from sentence-transformers) (4.32.1)\n",
      "Requirement already satisfied: tqdm in c:\\users\\adity\\appdata\\local\\programs\\python\\python310\\lib\\site-packages (from sentence-transformers) (4.66.1)\n",
      "Requirement already satisfied: torch>=1.6.0 in c:\\users\\adity\\appdata\\local\\programs\\python\\python310\\lib\\site-packages (from sentence-transformers) (2.0.1)\n",
      "Requirement already satisfied: torchvision in c:\\users\\adity\\appdata\\local\\programs\\python\\python310\\lib\\site-packages (from sentence-transformers) (0.15.2)\n",
      "Requirement already satisfied: numpy in c:\\users\\adity\\appdata\\local\\programs\\python\\python310\\lib\\site-packages (from sentence-transformers) (1.25.0)\n",
      "Requirement already satisfied: scikit-learn in c:\\users\\adity\\appdata\\local\\programs\\python\\python310\\lib\\site-packages (from sentence-transformers) (1.3.0)\n",
      "Requirement already satisfied: scipy in c:\\users\\adity\\appdata\\local\\programs\\python\\python310\\lib\\site-packages (from sentence-transformers) (1.11.1)\n",
      "Requirement already satisfied: nltk in c:\\users\\adity\\appdata\\local\\programs\\python\\python310\\lib\\site-packages (from sentence-transformers) (3.8.1)\n",
      "Requirement already satisfied: sentencepiece in c:\\users\\adity\\appdata\\local\\programs\\python\\python310\\lib\\site-packages (from sentence-transformers) (0.1.99)\n",
      "Requirement already satisfied: huggingface-hub>=0.4.0 in c:\\users\\adity\\appdata\\local\\programs\\python\\python310\\lib\\site-packages (from sentence-transformers) (0.16.4)\n",
      "Requirement already satisfied: pyyaml>=5.1 in c:\\users\\adity\\appdata\\local\\programs\\python\\python310\\lib\\site-packages (from huggingface-hub>=0.4.0->sentence-transformers) (6.0)\n",
      "Requirement already satisfied: filelock in c:\\users\\adity\\appdata\\local\\programs\\python\\python310\\lib\\site-packages (from huggingface-hub>=0.4.0->sentence-transformers) (3.12.3)\n",
      "Requirement already satisfied: fsspec in c:\\users\\adity\\appdata\\local\\programs\\python\\python310\\lib\\site-packages (from huggingface-hub>=0.4.0->sentence-transformers) (2023.6.0)\n",
      "Requirement already satisfied: packaging>=20.9 in c:\\users\\adity\\appdata\\local\\programs\\python\\python310\\lib\\site-packages (from huggingface-hub>=0.4.0->sentence-transformers) (23.1)\n",
      "Requirement already satisfied: requests in c:\\users\\adity\\appdata\\local\\programs\\python\\python310\\lib\\site-packages (from huggingface-hub>=0.4.0->sentence-transformers) (2.31.0)\n",
      "Requirement already satisfied: typing-extensions>=3.7.4.3 in c:\\users\\adity\\appdata\\local\\programs\\python\\python310\\lib\\site-packages (from huggingface-hub>=0.4.0->sentence-transformers) (4.7.1)\n",
      "Requirement already satisfied: networkx in c:\\users\\adity\\appdata\\local\\programs\\python\\python310\\lib\\site-packages (from torch>=1.6.0->sentence-transformers) (3.1)\n",
      "Requirement already satisfied: jinja2 in c:\\users\\adity\\appdata\\local\\programs\\python\\python310\\lib\\site-packages (from torch>=1.6.0->sentence-transformers) (3.1.2)\n",
      "Requirement already satisfied: sympy in c:\\users\\adity\\appdata\\local\\programs\\python\\python310\\lib\\site-packages (from torch>=1.6.0->sentence-transformers) (1.12)\n",
      "Requirement already satisfied: colorama in c:\\users\\adity\\appdata\\local\\programs\\python\\python310\\lib\\site-packages (from tqdm->sentence-transformers) (0.4.6)\n",
      "Requirement already satisfied: regex!=2019.12.17 in c:\\users\\adity\\appdata\\local\\programs\\python\\python310\\lib\\site-packages (from transformers<5.0.0,>=4.6.0->sentence-transformers) (2023.8.8)\n",
      "Requirement already satisfied: tokenizers!=0.11.3,<0.14,>=0.11.1 in c:\\users\\adity\\appdata\\local\\programs\\python\\python310\\lib\\site-packages (from transformers<5.0.0,>=4.6.0->sentence-transformers) (0.13.3)\n",
      "Requirement already satisfied: safetensors>=0.3.1 in c:\\users\\adity\\appdata\\local\\programs\\python\\python310\\lib\\site-packages (from transformers<5.0.0,>=4.6.0->sentence-transformers) (0.3.3)\n",
      "Requirement already satisfied: MarkupSafe>=2.0 in c:\\users\\adity\\appdata\\local\\programs\\python\\python310\\lib\\site-packages (from jinja2->torch>=1.6.0->sentence-transformers) (2.1.3)\n",
      "Requirement already satisfied: click in c:\\users\\adity\\appdata\\local\\programs\\python\\python310\\lib\\site-packages (from nltk->sentence-transformers) (8.1.7)\n",
      "Requirement already satisfied: joblib in c:\\users\\adity\\appdata\\local\\programs\\python\\python310\\lib\\site-packages (from nltk->sentence-transformers) (1.3.1)\n",
      "Requirement already satisfied: certifi>=2017.4.17 in c:\\users\\adity\\appdata\\local\\programs\\python\\python310\\lib\\site-packages (from requests->huggingface-hub>=0.4.0->sentence-transformers) (2023.7.22)\n",
      "Requirement already satisfied: idna<4,>=2.5 in c:\\users\\adity\\appdata\\local\\programs\\python\\python310\\lib\\site-packages (from requests->huggingface-hub>=0.4.0->sentence-transformers) (3.4)\n",
      "Requirement already satisfied: charset-normalizer<4,>=2 in c:\\users\\adity\\appdata\\local\\programs\\python\\python310\\lib\\site-packages (from requests->huggingface-hub>=0.4.0->sentence-transformers) (3.2.0)\n",
      "Requirement already satisfied: urllib3<3,>=1.21.1 in c:\\users\\adity\\appdata\\local\\programs\\python\\python310\\lib\\site-packages (from requests->huggingface-hub>=0.4.0->sentence-transformers) (2.0.4)\n",
      "Requirement already satisfied: threadpoolctl>=2.0.0 in c:\\users\\adity\\appdata\\local\\programs\\python\\python310\\lib\\site-packages (from scikit-learn->sentence-transformers) (3.1.0)\n",
      "Requirement already satisfied: mpmath>=0.19 in c:\\users\\adity\\appdata\\local\\programs\\python\\python310\\lib\\site-packages (from sympy->torch>=1.6.0->sentence-transformers) (1.3.0)\n",
      "Requirement already satisfied: pillow!=8.3.*,>=5.3.0 in c:\\users\\adity\\appdata\\local\\programs\\python\\python310\\lib\\site-packages (from torchvision->sentence-transformers) (9.5.0)\n"
     ]
    },
    {
     "name": "stderr",
     "output_type": "stream",
     "text": [
      "WARNING: You are using pip version 21.2.4; however, version 23.2.1 is available.\n",
      "You should consider upgrading via the 'C:\\Users\\adity\\AppData\\Local\\Programs\\Python\\Python310\\python.exe -m pip install --upgrade pip' command.\n"
     ]
    },
    {
     "name": "stdout",
     "output_type": "stream",
     "text": [
      "Requirement already satisfied: scikit-learn in c:\\users\\adity\\appdata\\local\\programs\\python\\python310\\lib\\site-packages (1.3.0)"
     ]
    },
    {
     "name": "stderr",
     "output_type": "stream",
     "text": [
      "WARNING: You are using pip version 21.2.4; however, version 23.2.1 is available.\n",
      "You should consider upgrading via the 'C:\\Users\\adity\\AppData\\Local\\Programs\\Python\\Python310\\python.exe -m pip install --upgrade pip' command.\n"
     ]
    },
    {
     "name": "stdout",
     "output_type": "stream",
     "text": [
      "\n",
      "Requirement already satisfied: scipy>=1.5.0 in c:\\users\\adity\\appdata\\local\\programs\\python\\python310\\lib\\site-packages (from scikit-learn) (1.11.1)\n",
      "Requirement already satisfied: numpy>=1.17.3 in c:\\users\\adity\\appdata\\local\\programs\\python\\python310\\lib\\site-packages (from scikit-learn) (1.25.0)\n",
      "Requirement already satisfied: threadpoolctl>=2.0.0 in c:\\users\\adity\\appdata\\local\\programs\\python\\python310\\lib\\site-packages (from scikit-learn) (3.1.0)\n",
      "Requirement already satisfied: joblib>=1.1.1 in c:\\users\\adity\\appdata\\local\\programs\\python\\python310\\lib\\site-packages (from scikit-learn) (1.3.1)\n"
     ]
    }
   ],
   "source": [
    "!pip install -U sentence-transformers\n",
    "!pip install scikit-learn "
   ]
  },
  {
   "cell_type": "code",
   "execution_count": 3,
   "id": "b229fdc4",
   "metadata": {},
   "outputs": [],
   "source": [
    "def plotter(x, y, title):\n",
    "    plt.plot(x, y)\n",
    "    plt.xlabel('X')\n",
    "    plt.ylabel('Y')\n",
    "    plt.title(title)\n",
    "    plt.show()"
   ]
  },
  {
   "cell_type": "code",
   "execution_count": 4,
   "id": "8d0daede",
   "metadata": {},
   "outputs": [],
   "source": [
    "sentences = ['This framework generates embeddings for each input sentence',\n",
    "            'Sentences are passed as a list of string.',\n",
    "            'The quick brown fox jumps over the lazy dog.']"
   ]
  },
  {
   "cell_type": "code",
   "execution_count": 12,
   "id": "93b2751c",
   "metadata": {},
   "outputs": [
    {
     "data": {
      "application/vnd.jupyter.widget-view+json": {
       "model_id": "b924a0a6b61f458c88c54dcaad7078cc",
       "version_major": 2,
       "version_minor": 0
      },
      "text/plain": [
       "Downloading (…)e9125/.gitattributes:   0%|          | 0.00/1.18k [00:00<?, ?B/s]"
      ]
     },
     "metadata": {},
     "output_type": "display_data"
    },
    {
     "data": {
      "application/vnd.jupyter.widget-view+json": {
       "model_id": "7fe95f7ec7c64d2f9890f8efd208de1a",
       "version_major": 2,
       "version_minor": 0
      },
      "text/plain": [
       "Downloading (…)_Pooling/config.json:   0%|          | 0.00/190 [00:00<?, ?B/s]"
      ]
     },
     "metadata": {},
     "output_type": "display_data"
    },
    {
     "data": {
      "application/vnd.jupyter.widget-view+json": {
       "model_id": "c65a2c5f6e83416f89cad83eb13ec74c",
       "version_major": 2,
       "version_minor": 0
      },
      "text/plain": [
       "Downloading (…)7e55de9125/README.md:   0%|          | 0.00/10.6k [00:00<?, ?B/s]"
      ]
     },
     "metadata": {},
     "output_type": "display_data"
    },
    {
     "data": {
      "application/vnd.jupyter.widget-view+json": {
       "model_id": "9ac717e8bd444445a7008e0800988819",
       "version_major": 2,
       "version_minor": 0
      },
      "text/plain": [
       "Downloading (…)55de9125/config.json:   0%|          | 0.00/612 [00:00<?, ?B/s]"
      ]
     },
     "metadata": {},
     "output_type": "display_data"
    },
    {
     "data": {
      "application/vnd.jupyter.widget-view+json": {
       "model_id": "172e5427630441bd8a463b80995d3284",
       "version_major": 2,
       "version_minor": 0
      },
      "text/plain": [
       "Downloading (…)ce_transformers.json:   0%|          | 0.00/116 [00:00<?, ?B/s]"
      ]
     },
     "metadata": {},
     "output_type": "display_data"
    },
    {
     "data": {
      "application/vnd.jupyter.widget-view+json": {
       "model_id": "dbc4e9ae790843fab18c38aa5141a254",
       "version_major": 2,
       "version_minor": 0
      },
      "text/plain": [
       "Downloading (…)125/data_config.json:   0%|          | 0.00/39.3k [00:00<?, ?B/s]"
      ]
     },
     "metadata": {},
     "output_type": "display_data"
    },
    {
     "data": {
      "application/vnd.jupyter.widget-view+json": {
       "model_id": "45a81d1a526a45acaca304f47165f96a",
       "version_major": 2,
       "version_minor": 0
      },
      "text/plain": [
       "Downloading pytorch_model.bin:   0%|          | 0.00/90.9M [00:00<?, ?B/s]"
      ]
     },
     "metadata": {},
     "output_type": "display_data"
    },
    {
     "data": {
      "application/vnd.jupyter.widget-view+json": {
       "model_id": "2ed4cb5ce17a4ffc87a9fe48fc5e49c1",
       "version_major": 2,
       "version_minor": 0
      },
      "text/plain": [
       "Downloading (…)nce_bert_config.json:   0%|          | 0.00/53.0 [00:00<?, ?B/s]"
      ]
     },
     "metadata": {},
     "output_type": "display_data"
    },
    {
     "data": {
      "application/vnd.jupyter.widget-view+json": {
       "model_id": "9c722dd7184d4b8bba07684a8e980fc4",
       "version_major": 2,
       "version_minor": 0
      },
      "text/plain": [
       "Downloading (…)cial_tokens_map.json:   0%|          | 0.00/112 [00:00<?, ?B/s]"
      ]
     },
     "metadata": {},
     "output_type": "display_data"
    },
    {
     "data": {
      "application/vnd.jupyter.widget-view+json": {
       "model_id": "cdbeeda0fec94da29bbb2f5981bcbfc6",
       "version_major": 2,
       "version_minor": 0
      },
      "text/plain": [
       "Downloading (…)e9125/tokenizer.json:   0%|          | 0.00/466k [00:00<?, ?B/s]"
      ]
     },
     "metadata": {},
     "output_type": "display_data"
    },
    {
     "data": {
      "application/vnd.jupyter.widget-view+json": {
       "model_id": "e1d27b072b524aee86370602684abd20",
       "version_major": 2,
       "version_minor": 0
      },
      "text/plain": [
       "Downloading (…)okenizer_config.json:   0%|          | 0.00/350 [00:00<?, ?B/s]"
      ]
     },
     "metadata": {},
     "output_type": "display_data"
    },
    {
     "data": {
      "application/vnd.jupyter.widget-view+json": {
       "model_id": "61baf33234894acba9296d0e923cde49",
       "version_major": 2,
       "version_minor": 0
      },
      "text/plain": [
       "Downloading (…)9125/train_script.py:   0%|          | 0.00/13.2k [00:00<?, ?B/s]"
      ]
     },
     "metadata": {},
     "output_type": "display_data"
    },
    {
     "data": {
      "application/vnd.jupyter.widget-view+json": {
       "model_id": "a4ce0b7660684793b7a3e20cf4e542f5",
       "version_major": 2,
       "version_minor": 0
      },
      "text/plain": [
       "Downloading (…)7e55de9125/vocab.txt:   0%|          | 0.00/232k [00:00<?, ?B/s]"
      ]
     },
     "metadata": {},
     "output_type": "display_data"
    },
    {
     "data": {
      "application/vnd.jupyter.widget-view+json": {
       "model_id": "be8210f3b13f41e787183356b280cb73",
       "version_major": 2,
       "version_minor": 0
      },
      "text/plain": [
       "Downloading (…)5de9125/modules.json:   0%|          | 0.00/349 [00:00<?, ?B/s]"
      ]
     },
     "metadata": {},
     "output_type": "display_data"
    }
   ],
   "source": [
    "model = SentenceTransformer('all-MiniLM-L6-v2')"
   ]
  },
  {
   "cell_type": "code",
   "execution_count": 13,
   "id": "2e893cf3",
   "metadata": {},
   "outputs": [
    {
     "data": {
      "text/plain": [
       "(3, 384)"
      ]
     },
     "execution_count": 13,
     "metadata": {},
     "output_type": "execute_result"
    }
   ],
   "source": [
    "embeddings = model.encode(sentences, convert_to_numpy=True) # By default, convert_to_numpy = True\n",
    "embeddings.shape"
   ]
  },
  {
   "cell_type": "code",
   "execution_count": 14,
   "id": "44c92347",
   "metadata": {},
   "outputs": [
    {
     "data": {
      "text/plain": [
       "array([-0.01371735, -0.04285156, -0.01562864,  0.01405376,  0.03955383,\n",
       "        0.12179632,  0.02943333, -0.0317524 ,  0.03549598, -0.07931396,\n",
       "        0.01758786, -0.04043696,  0.04972595,  0.02549128, -0.07187007,\n",
       "        0.08149689,  0.00147069,  0.0479628 , -0.04503363, -0.09921751,\n",
       "       -0.02817697,  0.06450464,  0.04446701, -0.04762175, -0.03529522,\n",
       "        0.04386716, -0.05285659,  0.00043299,  0.10192145,  0.01640726,\n",
       "        0.03269958, -0.03459869,  0.01213393,  0.07948712,  0.00458342,\n",
       "        0.0157778 , -0.00968205,  0.02876258, -0.05058063, -0.01557935,\n",
       "       -0.02879067, -0.00962281,  0.03155562,  0.0227349 ,  0.08714499,\n",
       "       -0.03850273, -0.08847184, -0.00875496, -0.02123433,  0.02089241],\n",
       "      dtype=float32)"
      ]
     },
     "execution_count": 14,
     "metadata": {},
     "output_type": "execute_result"
    }
   ],
   "source": [
    "embeddings[0][:50]"
   ]
  },
  {
   "cell_type": "code",
   "execution_count": 15,
   "id": "beb9f1e6",
   "metadata": {},
   "outputs": [],
   "source": [
    "sentences = ['The cat sits outside',\n",
    "             'A man is playing guitar',\n",
    "             'I love pasta',\n",
    "             'The new movie is awesome',\n",
    "             'The cat plays in the garden',\n",
    "             'A woman watches TV',\n",
    "             'The new movie is so great',\n",
    "             'Do you like pizza?']\n",
    "\n",
    "embeddings = model.encode(sentences, convert_to_numpy=True) "
   ]
  },
  {
   "cell_type": "code",
   "execution_count": 16,
   "id": "b497e8dd",
   "metadata": {},
   "outputs": [],
   "source": [
    "def cosine_similarity(a, b):\n",
    "    \n",
    "    score = np.dot(a, b) / (norm(a) * norm(b))\n",
    "    \n",
    "    return score"
   ]
  },
  {
   "cell_type": "code",
   "execution_count": 17,
   "id": "ff9a22ef",
   "metadata": {},
   "outputs": [
    {
     "data": {
      "text/plain": [
       "0.036330357"
      ]
     },
     "execution_count": 17,
     "metadata": {},
     "output_type": "execute_result"
    }
   ],
   "source": [
    "cosine_similarity(embeddings[0], embeddings[1])"
   ]
  },
  {
   "cell_type": "code",
   "execution_count": 18,
   "id": "a05e254f",
   "metadata": {},
   "outputs": [
    {
     "data": {
      "text/plain": [
       "0.89390385"
      ]
     },
     "execution_count": 18,
     "metadata": {},
     "output_type": "execute_result"
    }
   ],
   "source": [
    "cosine_similarity(embeddings[3], embeddings[6])"
   ]
  },
  {
   "cell_type": "code",
   "execution_count": 19,
   "id": "816c3caf",
   "metadata": {},
   "outputs": [
    {
     "data": {
      "text/plain": [
       "torch.Size([8, 8])"
      ]
     },
     "execution_count": 19,
     "metadata": {},
     "output_type": "execute_result"
    }
   ],
   "source": [
    "cosine_scores = util.cos_sim(embeddings, embeddings)\n",
    "cosine_scores.shape"
   ]
  },
  {
   "cell_type": "code",
   "execution_count": 20,
   "id": "18b7a8f1",
   "metadata": {},
   "outputs": [
    {
     "data": {
      "text/plain": [
       "28"
      ]
     },
     "execution_count": 20,
     "metadata": {},
     "output_type": "execute_result"
    }
   ],
   "source": [
    "pairs = []\n",
    "\n",
    "for i in range(len(cosine_scores)-1): # 0, 1, 2, 3, 4, 5, 6\n",
    "    for j in range(i+1, len(cosine_scores)): # 1-7, 2-7, 3-7, 4-7, 5-7, 6-7, 7\n",
    "        pairs.append({'index': [i,j], 'score': cosine_scores[i][j]})\n",
    "        \n",
    "len(pairs)"
   ]
  },
  {
   "cell_type": "code",
   "execution_count": 21,
   "id": "6a58b70c",
   "metadata": {},
   "outputs": [
    {
     "name": "stdout",
     "output_type": "stream",
     "text": [
      "The new movie is awesome | The new movie is so great \n",
      " Score: 0.89 \n",
      "\n",
      "The cat sits outside | The cat plays in the garden \n",
      " Score: 0.68 \n",
      "\n",
      "I love pasta | Do you like pizza? \n",
      " Score: 0.51 \n",
      "\n"
     ]
    }
   ],
   "source": [
    "sorted_pairs = sorted(pairs, key=lambda x: x['score'], reverse=True)\n",
    "\n",
    "for pair in sorted_pairs[0:3]:\n",
    "    i, j = pair['index']\n",
    "    print(f\"{sentences[i]} | {sentences[j]} \\n Score: {pair['score']:.2f} \\n\")"
   ]
  },
  {
   "cell_type": "code",
   "execution_count": 22,
   "id": "32197551",
   "metadata": {},
   "outputs": [],
   "source": [
    "pca = PCA(n_components=2)\n",
    "embeddings_reduced = pca.fit_transform(embeddings)"
   ]
  },
  {
   "cell_type": "code",
   "execution_count": 23,
   "id": "979492cb",
   "metadata": {},
   "outputs": [
    {
     "data": {
      "image/png": "[encoded data removed]",
      "text/plain": [
       "<Figure size 640x480 with 1 Axes>"
      ]
     },
     "metadata": {},
     "output_type": "display_data"
    }
   ],
   "source": [
    "for coord, sentence in zip(embeddings_reduced, sentences):\n",
    "\n",
    "    plt.scatter(coord[0], coord[1])\n",
    "    plt.annotate(sentence, (coord[0], coord[1]))"
   ]
  },
  {
   "cell_type": "code",
   "execution_count": 30,
   "id": "cef74424",
   "metadata": {},
   "outputs": [
    {
     "ename": "FileNotFoundError",
     "evalue": "[Errno 2] No such file or directory: '\\\\tmp\\\\skills-network-3855824502117995614-perfume_data.tgz'",
     "output_type": "error",
     "traceback": [
      "\u001b[1;31m---------------------------------------------------------------------------\u001b[0m",
      "\u001b[1;31mFileNotFoundError\u001b[0m                         Traceback (most recent call last)",
      "Cell \u001b[1;32mIn[30], line 1\u001b[0m\n\u001b[1;32m----> 1\u001b[0m \u001b[38;5;28;01mawait\u001b[39;00m skillsnetwork\u001b[38;5;241m.\u001b[39mprepare(\u001b[38;5;124m\"\u001b[39m\u001b[38;5;124mhttps://cf-courses-data.s3.us.cloud-object-storage.appdomain.cloud/IBM-GPXX068IEN/data/perfume_data.tgz\u001b[39m\u001b[38;5;124m\"\u001b[39m, overwrite\u001b[38;5;241m=\u001b[39m\u001b[38;5;28;01mTrue\u001b[39;00m)\n",
      "File \u001b[1;32m~\\AppData\\Local\\Programs\\Python\\Python310\\lib\\site-packages\\skillsnetwork\\core.py:249\u001b[0m, in \u001b[0;36mprepare\u001b[1;34m(url, path, verbose, overwrite)\u001b[0m\n\u001b[0;32m    246\u001b[0m tmp_download_file \u001b[38;5;241m=\u001b[39m Path(\u001b[38;5;124mf\u001b[39m\u001b[38;5;124m\"\u001b[39m\u001b[38;5;124m/tmp/\u001b[39m\u001b[38;5;132;01m{\u001b[39;00mdname\u001b[38;5;132;01m}\u001b[39;00m\u001b[38;5;124m-\u001b[39m\u001b[38;5;132;01m{\u001b[39;00mfilename\u001b[38;5;132;01m}\u001b[39;00m\u001b[38;5;124m\"\u001b[39m)\n\u001b[0;32m    247\u001b[0m \u001b[38;5;66;03m# Download the dataset to tmp_download_file file\u001b[39;00m\n\u001b[0;32m    248\u001b[0m \u001b[38;5;66;03m# File will be overwritten if it already exists\u001b[39;00m\n\u001b[1;32m--> 249\u001b[0m \u001b[38;5;28;01mawait\u001b[39;00m download(url, tmp_download_file, verbose\u001b[38;5;241m=\u001b[39m\u001b[38;5;28;01mFalse\u001b[39;00m)\n\u001b[0;32m    251\u001b[0m \u001b[38;5;66;03m# Delete extract_dir directory if it already exists\u001b[39;00m\n\u001b[0;32m    252\u001b[0m \u001b[38;5;28;01mif\u001b[39;00m \u001b[38;5;129;01mnot\u001b[39;00m _is_jupyterlite():\n",
      "File \u001b[1;32m~\\AppData\\Local\\Programs\\Python\\Python310\\lib\\site-packages\\skillsnetwork\\core.py:186\u001b[0m, in \u001b[0;36mdownload\u001b[1;34m(url, path, verbose, chunk_size)\u001b[0m\n\u001b[0;32m    184\u001b[0m     \u001b[38;5;28;01mif\u001b[39;00m path\u001b[38;5;241m.\u001b[39mis_dir():\n\u001b[0;32m    185\u001b[0m         path \u001b[38;5;241m/\u001b[39m\u001b[38;5;241m=\u001b[39m filename\n\u001b[1;32m--> 186\u001b[0m \u001b[38;5;28;01mwith\u001b[39;00m \u001b[38;5;28;43mopen\u001b[39;49m\u001b[43m(\u001b[49m\u001b[43mpath\u001b[49m\u001b[43m,\u001b[49m\u001b[43m \u001b[49m\u001b[38;5;124;43m\"\u001b[39;49m\u001b[38;5;124;43mwb\u001b[39;49m\u001b[38;5;124;43m\"\u001b[39;49m\u001b[43m)\u001b[49m \u001b[38;5;28;01mas\u001b[39;00m f:  \u001b[38;5;66;03m# Will raise FileNotFoundError if invalid path\u001b[39;00m\n\u001b[0;32m    187\u001b[0m     \u001b[38;5;28;01masync\u001b[39;00m \u001b[38;5;28;01mfor\u001b[39;00m chunk \u001b[38;5;129;01min\u001b[39;00m _get_chunks(url, chunk_size):\n\u001b[0;32m    188\u001b[0m         f\u001b[38;5;241m.\u001b[39mwrite(chunk)\n",
      "\u001b[1;31mFileNotFoundError\u001b[0m: [Errno 2] No such file or directory: '\\\\tmp\\\\skills-network-3855824502117995614-perfume_data.tgz'"
     ]
    }
   ],
   "source": [
    "await skillsnetwork.prepare(\"https://cf-courses-data.s3.us.cloud-object-storage.appdomain.cloud/IBM-GPXX068IEN/data/perfume_data.tgz\", overwrite=True)"
   ]
  },
  {
   "cell_type": "code",
   "execution_count": 25,
   "id": "17276ba8",
   "metadata": {},
   "outputs": [
    {
     "name": "stdout",
     "output_type": "stream",
     "text": [
      "Collecting skillsnetwork\n",
      "  Downloading skillsnetwork-0.20.6-py3-none-any.whl (26 kB)\n",
      "Requirement already satisfied: ipython in c:\\users\\adity\\appdata\\local\\programs\\python\\python310\\lib\\site-packages (from skillsnetwork) (8.14.0)\n",
      "Requirement already satisfied: requests<3,>=2 in c:\\users\\adity\\appdata\\local\\programs\\python\\python310\\lib\\site-packages (from skillsnetwork) (2.31.0)\n",
      "Requirement already satisfied: tqdm<5,>=4 in c:\\users\\adity\\appdata\\local\\programs\\python\\python310\\lib\\site-packages (from skillsnetwork) (4.66.1)\n",
      "Collecting ipywidgets<8,>=7\n",
      "  Downloading ipywidgets-7.8.0-py2.py3-none-any.whl (124 kB)\n",
      "Requirement already satisfied: traitlets>=4.3.1 in c:\\users\\adity\\appdata\\local\\programs\\python\\python310\\lib\\site-packages (from ipywidgets<8,>=7->skillsnetwork) (5.9.0)\n",
      "Requirement already satisfied: ipython-genutils~=0.2.0 in c:\\users\\adity\\appdata\\local\\programs\\python\\python310\\lib\\site-packages (from ipywidgets<8,>=7->skillsnetwork) (0.2.0)\n",
      "Collecting widgetsnbextension~=3.6.5\n",
      "  Downloading widgetsnbextension-3.6.5-py2.py3-none-any.whl (1.6 MB)\n",
      "Collecting jupyterlab-widgets<3,>=1.0.0\n",
      "  Downloading jupyterlab_widgets-1.1.5-py3-none-any.whl (246 kB)\n",
      "Requirement already satisfied: comm>=0.1.3 in c:\\users\\adity\\appdata\\local\\programs\\python\\python310\\lib\\site-packages (from ipywidgets<8,>=7->skillsnetwork) (0.1.3)\n",
      "Requirement already satisfied: backcall in c:\\users\\adity\\appdata\\local\\programs\\python\\python310\\lib\\site-packages (from ipython->skillsnetwork) (0.2.0)\n",
      "Requirement already satisfied: pickleshare in c:\\users\\adity\\appdata\\local\\programs\\python\\python310\\lib\\site-packages (from ipython->skillsnetwork) (0.7.5)\n",
      "Requirement already satisfied: decorator in c:\\users\\adity\\appdata\\local\\programs\\python\\python310\\lib\\site-packages (from ipython->skillsnetwork) (5.1.1)\n",
      "Requirement already satisfied: prompt-toolkit!=3.0.37,<3.1.0,>=3.0.30 in c:\\users\\adity\\appdata\\local\\programs\\python\\python310\\lib\\site-packages (from ipython->skillsnetwork) (3.0.38)\n",
      "Requirement already satisfied: colorama in c:\\users\\adity\\appdata\\local\\programs\\python\\python310\\lib\\site-packages (from ipython->skillsnetwork) (0.4.6)\n",
      "Requirement already satisfied: jedi>=0.16 in c:\\users\\adity\\appdata\\local\\programs\\python\\python310\\lib\\site-packages (from ipython->skillsnetwork) (0.18.2)\n",
      "Requirement already satisfied: stack-data in c:\\users\\adity\\appdata\\local\\programs\\python\\python310\\lib\\site-packages (from ipython->skillsnetwork) (0.6.2)\n",
      "Requirement already satisfied: pygments>=2.4.0 in c:\\users\\adity\\appdata\\local\\programs\\python\\python310\\lib\\site-packages (from ipython->skillsnetwork) (2.15.1)\n",
      "Requirement already satisfied: matplotlib-inline in c:\\users\\adity\\appdata\\local\\programs\\python\\python310\\lib\\site-packages (from ipython->skillsnetwork) (0.1.6)\n",
      "Requirement already satisfied: parso<0.9.0,>=0.8.0 in c:\\users\\adity\\appdata\\local\\programs\\python\\python310\\lib\\site-packages (from jedi>=0.16->ipython->skillsnetwork) (0.8.3)\n",
      "Requirement already satisfied: wcwidth in c:\\users\\adity\\appdata\\local\\programs\\python\\python310\\lib\\site-packages (from prompt-toolkit!=3.0.37,<3.1.0,>=3.0.30->ipython->skillsnetwork) (0.2.6)\n",
      "Requirement already satisfied: certifi>=2017.4.17 in c:\\users\\adity\\appdata\\local\\programs\\python\\python310\\lib\\site-packages (from requests<3,>=2->skillsnetwork) (2023.7.22)\n",
      "Requirement already satisfied: idna<4,>=2.5 in c:\\users\\adity\\appdata\\local\\programs\\python\\python310\\lib\\site-packages (from requests<3,>=2->skillsnetwork) (3.4)\n",
      "Requirement already satisfied: urllib3<3,>=1.21.1 in c:\\users\\adity\\appdata\\local\\programs\\python\\python310\\lib\\site-packages (from requests<3,>=2->skillsnetwork) (2.0.4)\n",
      "Requirement already satisfied: charset-normalizer<4,>=2 in c:\\users\\adity\\appdata\\local\\programs\\python\\python310\\lib\\site-packages (from requests<3,>=2->skillsnetwork) (3.2.0)\n",
      "Requirement already satisfied: notebook>=4.4.1 in c:\\users\\adity\\appdata\\local\\programs\\python\\python310\\lib\\site-packages (from widgetsnbextension~=3.6.5->ipywidgets<8,>=7->skillsnetwork) (6.5.4)\n",
      "Requirement already satisfied: nbclassic>=0.4.7 in c:\\users\\adity\\appdata\\local\\programs\\python\\python310\\lib\\site-packages (from notebook>=4.4.1->widgetsnbextension~=3.6.5->ipywidgets<8,>=7->skillsnetwork) (1.0.0)\n",
      "Requirement already satisfied: pyzmq>=17 in c:\\users\\adity\\appdata\\local\\programs\\python\\python310\\lib\\site-packages (from notebook>=4.4.1->widgetsnbextension~=3.6.5->ipywidgets<8,>=7->skillsnetwork) (25.1.0)\n",
      "Requirement already satisfied: nbconvert>=5 in c:\\users\\adity\\appdata\\local\\programs\\python\\python310\\lib\\site-packages (from notebook>=4.4.1->widgetsnbextension~=3.6.5->ipywidgets<8,>=7->skillsnetwork) (7.6.0)\n",
      "Requirement already satisfied: ipykernel in c:\\users\\adity\\appdata\\local\\programs\\python\\python310\\lib\\site-packages (from notebook>=4.4.1->widgetsnbextension~=3.6.5->ipywidgets<8,>=7->skillsnetwork) (6.23.2)\n",
      "Requirement already satisfied: jupyter-client>=5.3.4 in c:\\users\\adity\\appdata\\local\\programs\\python\\python310\\lib\\site-packages (from notebook>=4.4.1->widgetsnbextension~=3.6.5->ipywidgets<8,>=7->skillsnetwork) (8.2.0)\n",
      "Requirement already satisfied: jupyter-core>=4.6.1 in c:\\users\\adity\\appdata\\local\\programs\\python\\python310\\lib\\site-packages (from notebook>=4.4.1->widgetsnbextension~=3.6.5->ipywidgets<8,>=7->skillsnetwork) (5.3.1)\n",
      "Requirement already satisfied: jinja2 in c:\\users\\adity\\appdata\\local\\programs\\python\\python310\\lib\\site-packages (from notebook>=4.4.1->widgetsnbextension~=3.6.5->ipywidgets<8,>=7->skillsnetwork) (3.1.2)\n",
      "Requirement already satisfied: prometheus-client in c:\\users\\adity\\appdata\\local\\programs\\python\\python310\\lib\\site-packages (from notebook>=4.4.1->widgetsnbextension~=3.6.5->ipywidgets<8,>=7->skillsnetwork) (0.17.0)\n",
      "Requirement already satisfied: argon2-cffi in c:\\users\\adity\\appdata\\local\\programs\\python\\python310\\lib\\site-packages (from notebook>=4.4.1->widgetsnbextension~=3.6.5->ipywidgets<8,>=7->skillsnetwork) (21.3.0)\n",
      "Requirement already satisfied: nest-asyncio>=1.5 in c:\\users\\adity\\appdata\\local\\programs\\python\\python310\\lib\\site-packages (from notebook>=4.4.1->widgetsnbextension~=3.6.5->ipywidgets<8,>=7->skillsnetwork) (1.5.6)\n",
      "Requirement already satisfied: Send2Trash>=1.8.0 in c:\\users\\adity\\appdata\\local\\programs\\python\\python310\\lib\\site-packages (from notebook>=4.4.1->widgetsnbextension~=3.6.5->ipywidgets<8,>=7->skillsnetwork) (1.8.2)\n",
      "Requirement already satisfied: nbformat in c:\\users\\adity\\appdata\\local\\programs\\python\\python310\\lib\\site-packages (from notebook>=4.4.1->widgetsnbextension~=3.6.5->ipywidgets<8,>=7->skillsnetwork) (5.9.0)\n",
      "Requirement already satisfied: terminado>=0.8.3 in c:\\users\\adity\\appdata\\local\\programs\\python\\python310\\lib\\site-packages (from notebook>=4.4.1->widgetsnbextension~=3.6.5->ipywidgets<8,>=7->skillsnetwork) (0.17.1)\n",
      "Requirement already satisfied: tornado>=6.1 in c:\\users\\adity\\appdata\\local\\programs\\python\\python310\\lib\\site-packages (from notebook>=4.4.1->widgetsnbextension~=3.6.5->ipywidgets<8,>=7->skillsnetwork) (6.3.2)\n",
      "Requirement already satisfied: python-dateutil>=2.8.2 in c:\\users\\adity\\appdata\\local\\programs\\python\\python310\\lib\\site-packages (from jupyter-client>=5.3.4->notebook>=4.4.1->widgetsnbextension~=3.6.5->ipywidgets<8,>=7->skillsnetwork) (2.8.2)\n",
      "Requirement already satisfied: pywin32>=300 in c:\\users\\adity\\appdata\\local\\programs\\python\\python310\\lib\\site-packages (from jupyter-core>=4.6.1->notebook>=4.4.1->widgetsnbextension~=3.6.5->ipywidgets<8,>=7->skillsnetwork) (306)\n",
      "Requirement already satisfied: platformdirs>=2.5 in c:\\users\\adity\\appdata\\local\\programs\\python\\python310\\lib\\site-packages (from jupyter-core>=4.6.1->notebook>=4.4.1->widgetsnbextension~=3.6.5->ipywidgets<8,>=7->skillsnetwork) (3.7.0)\n",
      "Requirement already satisfied: notebook-shim>=0.2.3 in c:\\users\\adity\\appdata\\local\\programs\\python\\python310\\lib\\site-packages (from nbclassic>=0.4.7->notebook>=4.4.1->widgetsnbextension~=3.6.5->ipywidgets<8,>=7->skillsnetwork) (0.2.3)\n",
      "Requirement already satisfied: jupyter-server>=1.8 in c:\\users\\adity\\appdata\\local\\programs\\python\\python310\\lib\\site-packages (from nbclassic>=0.4.7->notebook>=4.4.1->widgetsnbextension~=3.6.5->ipywidgets<8,>=7->skillsnetwork) (2.6.0)\n",
      "Requirement already satisfied: pywinpty in c:\\users\\adity\\appdata\\local\\programs\\python\\python310\\lib\\site-packages (from jupyter-server>=1.8->nbclassic>=0.4.7->notebook>=4.4.1->widgetsnbextension~=3.6.5->ipywidgets<8,>=7->skillsnetwork) (2.0.10)\n",
      "Requirement already satisfied: jupyter-server-terminals in c:\\users\\adity\\appdata\\local\\programs\\python\\python310\\lib\\site-packages (from jupyter-server>=1.8->nbclassic>=0.4.7->notebook>=4.4.1->widgetsnbextension~=3.6.5->ipywidgets<8,>=7->skillsnetwork) (0.4.4)\n",
      "Requirement already satisfied: packaging in c:\\users\\adity\\appdata\\local\\programs\\python\\python310\\lib\\site-packages (from jupyter-server>=1.8->nbclassic>=0.4.7->notebook>=4.4.1->widgetsnbextension~=3.6.5->ipywidgets<8,>=7->skillsnetwork) (23.1)\n",
      "Requirement already satisfied: jupyter-events>=0.6.0 in c:\\users\\adity\\appdata\\local\\programs\\python\\python310\\lib\\site-packages (from jupyter-server>=1.8->nbclassic>=0.4.7->notebook>=4.4.1->widgetsnbextension~=3.6.5->ipywidgets<8,>=7->skillsnetwork) (0.6.3)\n",
      "Requirement already satisfied: websocket-client in c:\\users\\adity\\appdata\\local\\programs\\python\\python310\\lib\\site-packages (from jupyter-server>=1.8->nbclassic>=0.4.7->notebook>=4.4.1->widgetsnbextension~=3.6.5->ipywidgets<8,>=7->skillsnetwork) (1.6.0)\n",
      "Requirement already satisfied: overrides in c:\\users\\adity\\appdata\\local\\programs\\python\\python310\\lib\\site-packages (from jupyter-server>=1.8->nbclassic>=0.4.7->notebook>=4.4.1->widgetsnbextension~=3.6.5->ipywidgets<8,>=7->skillsnetwork) (7.3.1)\n",
      "Requirement already satisfied: anyio>=3.1.0 in c:\\users\\adity\\appdata\\local\\programs\\python\\python310\\lib\\site-packages (from jupyter-server>=1.8->nbclassic>=0.4.7->notebook>=4.4.1->widgetsnbextension~=3.6.5->ipywidgets<8,>=7->skillsnetwork) (3.7.0)\n",
      "Requirement already satisfied: exceptiongroup in c:\\users\\adity\\appdata\\local\\programs\\python\\python310\\lib\\site-packages (from anyio>=3.1.0->jupyter-server>=1.8->nbclassic>=0.4.7->notebook>=4.4.1->widgetsnbextension~=3.6.5->ipywidgets<8,>=7->skillsnetwork) (1.1.1)\n",
      "Requirement already satisfied: sniffio>=1.1 in c:\\users\\adity\\appdata\\local\\programs\\python\\python310\\lib\\site-packages (from anyio>=3.1.0->jupyter-server>=1.8->nbclassic>=0.4.7->notebook>=4.4.1->widgetsnbextension~=3.6.5->ipywidgets<8,>=7->skillsnetwork) (1.3.0)\n",
      "Requirement already satisfied: jsonschema[format-nongpl]>=3.2.0 in c:\\users\\adity\\appdata\\local\\programs\\python\\python310\\lib\\site-packages (from jupyter-events>=0.6.0->jupyter-server>=1.8->nbclassic>=0.4.7->notebook>=4.4.1->widgetsnbextension~=3.6.5->ipywidgets<8,>=7->skillsnetwork) (4.17.3)\n",
      "Requirement already satisfied: python-json-logger>=2.0.4 in c:\\users\\adity\\appdata\\local\\programs\\python\\python310\\lib\\site-packages (from jupyter-events>=0.6.0->jupyter-server>=1.8->nbclassic>=0.4.7->notebook>=4.4.1->widgetsnbextension~=3.6.5->ipywidgets<8,>=7->skillsnetwork) (2.0.7)\n",
      "Requirement already satisfied: rfc3986-validator>=0.1.1 in c:\\users\\adity\\appdata\\local\\programs\\python\\python310\\lib\\site-packages (from jupyter-events>=0.6.0->jupyter-server>=1.8->nbclassic>=0.4.7->notebook>=4.4.1->widgetsnbextension~=3.6.5->ipywidgets<8,>=7->skillsnetwork) (0.1.1)\n",
      "Requirement already satisfied: rfc3339-validator in c:\\users\\adity\\appdata\\local\\programs\\python\\python310\\lib\\site-packages (from jupyter-events>=0.6.0->jupyter-server>=1.8->nbclassic>=0.4.7->notebook>=4.4.1->widgetsnbextension~=3.6.5->ipywidgets<8,>=7->skillsnetwork) (0.1.4)\n",
      "Requirement already satisfied: pyyaml>=5.3 in c:\\users\\adity\\appdata\\local\\programs\\python\\python310\\lib\\site-packages (from jupyter-events>=0.6.0->jupyter-server>=1.8->nbclassic>=0.4.7->notebook>=4.4.1->widgetsnbextension~=3.6.5->ipywidgets<8,>=7->skillsnetwork) (6.0)\n",
      "Requirement already satisfied: attrs>=17.4.0 in c:\\users\\adity\\appdata\\local\\programs\\python\\python310\\lib\\site-packages (from jsonschema[format-nongpl]>=3.2.0->jupyter-events>=0.6.0->jupyter-server>=1.8->nbclassic>=0.4.7->notebook>=4.4.1->widgetsnbextension~=3.6.5->ipywidgets<8,>=7->skillsnetwork) (23.1.0)\n",
      "Requirement already satisfied: pyrsistent!=0.17.0,!=0.17.1,!=0.17.2,>=0.14.0 in c:\\users\\adity\\appdata\\local\\programs\\python\\python310\\lib\\site-packages (from jsonschema[format-nongpl]>=3.2.0->jupyter-events>=0.6.0->jupyter-server>=1.8->nbclassic>=0.4.7->notebook>=4.4.1->widgetsnbextension~=3.6.5->ipywidgets<8,>=7->skillsnetwork) (0.19.3)\n",
      "Requirement already satisfied: jsonpointer>1.13 in c:\\users\\adity\\appdata\\local\\programs\\python\\python310\\lib\\site-packages (from jsonschema[format-nongpl]>=3.2.0->jupyter-events>=0.6.0->jupyter-server>=1.8->nbclassic>=0.4.7->notebook>=4.4.1->widgetsnbextension~=3.6.5->ipywidgets<8,>=7->skillsnetwork) (2.4)\n",
      "Requirement already satisfied: webcolors>=1.11 in c:\\users\\adity\\appdata\\local\\programs\\python\\python310\\lib\\site-packages (from jsonschema[format-nongpl]>=3.2.0->jupyter-events>=0.6.0->jupyter-server>=1.8->nbclassic>=0.4.7->notebook>=4.4.1->widgetsnbextension~=3.6.5->ipywidgets<8,>=7->skillsnetwork) (1.13)\n",
      "Requirement already satisfied: uri-template in c:\\users\\adity\\appdata\\local\\programs\\python\\python310\\lib\\site-packages (from jsonschema[format-nongpl]>=3.2.0->jupyter-events>=0.6.0->jupyter-server>=1.8->nbclassic>=0.4.7->notebook>=4.4.1->widgetsnbextension~=3.6.5->ipywidgets<8,>=7->skillsnetwork) (1.3.0)\n",
      "Requirement already satisfied: isoduration in c:\\users\\adity\\appdata\\local\\programs\\python\\python310\\lib\\site-packages (from jsonschema[format-nongpl]>=3.2.0->jupyter-events>=0.6.0->jupyter-server>=1.8->nbclassic>=0.4.7->notebook>=4.4.1->widgetsnbextension~=3.6.5->ipywidgets<8,>=7->skillsnetwork) (20.11.0)\n",
      "Requirement already satisfied: fqdn in c:\\users\\adity\\appdata\\local\\programs\\python\\python310\\lib\\site-packages (from jsonschema[format-nongpl]>=3.2.0->jupyter-events>=0.6.0->jupyter-server>=1.8->nbclassic>=0.4.7->notebook>=4.4.1->widgetsnbextension~=3.6.5->ipywidgets<8,>=7->skillsnetwork) (1.5.1)\n",
      "Requirement already satisfied: pandocfilters>=1.4.1 in c:\\users\\adity\\appdata\\local\\programs\\python\\python310\\lib\\site-packages (from nbconvert>=5->notebook>=4.4.1->widgetsnbextension~=3.6.5->ipywidgets<8,>=7->skillsnetwork) (1.5.0)\n",
      "Requirement already satisfied: defusedxml in c:\\users\\adity\\appdata\\local\\programs\\python\\python310\\lib\\site-packages (from nbconvert>=5->notebook>=4.4.1->widgetsnbextension~=3.6.5->ipywidgets<8,>=7->skillsnetwork) (0.7.1)\n",
      "Requirement already satisfied: markupsafe>=2.0 in c:\\users\\adity\\appdata\\local\\programs\\python\\python310\\lib\\site-packages (from nbconvert>=5->notebook>=4.4.1->widgetsnbextension~=3.6.5->ipywidgets<8,>=7->skillsnetwork) (2.1.3)\n",
      "Requirement already satisfied: mistune<4,>=2.0.3 in c:\\users\\adity\\appdata\\local\\programs\\python\\python310\\lib\\site-packages (from nbconvert>=5->notebook>=4.4.1->widgetsnbextension~=3.6.5->ipywidgets<8,>=7->skillsnetwork) (3.0.1)\n",
      "Requirement already satisfied: nbclient>=0.5.0 in c:\\users\\adity\\appdata\\local\\programs\\python\\python310\\lib\\site-packages (from nbconvert>=5->notebook>=4.4.1->widgetsnbextension~=3.6.5->ipywidgets<8,>=7->skillsnetwork) (0.8.0)\n",
      "Requirement already satisfied: bleach!=5.0.0 in c:\\users\\adity\\appdata\\local\\programs\\python\\python310\\lib\\site-packages (from nbconvert>=5->notebook>=4.4.1->widgetsnbextension~=3.6.5->ipywidgets<8,>=7->skillsnetwork) (6.0.0)\n",
      "Requirement already satisfied: jupyterlab-pygments in c:\\users\\adity\\appdata\\local\\programs\\python\\python310\\lib\\site-packages (from nbconvert>=5->notebook>=4.4.1->widgetsnbextension~=3.6.5->ipywidgets<8,>=7->skillsnetwork) (0.2.2)\n",
      "Requirement already satisfied: tinycss2 in c:\\users\\adity\\appdata\\local\\programs\\python\\python310\\lib\\site-packages (from nbconvert>=5->notebook>=4.4.1->widgetsnbextension~=3.6.5->ipywidgets<8,>=7->skillsnetwork) (1.2.1)\n",
      "Requirement already satisfied: beautifulsoup4 in c:\\users\\adity\\appdata\\local\\programs\\python\\python310\\lib\\site-packages (from nbconvert>=5->notebook>=4.4.1->widgetsnbextension~=3.6.5->ipywidgets<8,>=7->skillsnetwork) (4.12.2)\n",
      "Requirement already satisfied: webencodings in c:\\users\\adity\\appdata\\local\\programs\\python\\python310\\lib\\site-packages (from bleach!=5.0.0->nbconvert>=5->notebook>=4.4.1->widgetsnbextension~=3.6.5->ipywidgets<8,>=7->skillsnetwork) (0.5.1)\n",
      "Requirement already satisfied: six>=1.9.0 in c:\\users\\adity\\appdata\\local\\programs\\python\\python310\\lib\\site-packages (from bleach!=5.0.0->nbconvert>=5->notebook>=4.4.1->widgetsnbextension~=3.6.5->ipywidgets<8,>=7->skillsnetwork) (1.16.0)\n",
      "Requirement already satisfied: fastjsonschema in c:\\users\\adity\\appdata\\local\\programs\\python\\python310\\lib\\site-packages (from nbformat->notebook>=4.4.1->widgetsnbextension~=3.6.5->ipywidgets<8,>=7->skillsnetwork) (2.17.1)\n",
      "Requirement already satisfied: argon2-cffi-bindings in c:\\users\\adity\\appdata\\local\\programs\\python\\python310\\lib\\site-packages (from argon2-cffi->notebook>=4.4.1->widgetsnbextension~=3.6.5->ipywidgets<8,>=7->skillsnetwork) (21.2.0)\n",
      "Requirement already satisfied: cffi>=1.0.1 in c:\\users\\adity\\appdata\\local\\programs\\python\\python310\\lib\\site-packages (from argon2-cffi-bindings->argon2-cffi->notebook>=4.4.1->widgetsnbextension~=3.6.5->ipywidgets<8,>=7->skillsnetwork) (1.15.1)\n",
      "Requirement already satisfied: pycparser in c:\\users\\adity\\appdata\\local\\programs\\python\\python310\\lib\\site-packages (from cffi>=1.0.1->argon2-cffi-bindings->argon2-cffi->notebook>=4.4.1->widgetsnbextension~=3.6.5->ipywidgets<8,>=7->skillsnetwork) (2.21)\n",
      "Requirement already satisfied: soupsieve>1.2 in c:\\users\\adity\\appdata\\local\\programs\\python\\python310\\lib\\site-packages (from beautifulsoup4->nbconvert>=5->notebook>=4.4.1->widgetsnbextension~=3.6.5->ipywidgets<8,>=7->skillsnetwork) (2.4.1)\n",
      "Requirement already satisfied: psutil in c:\\users\\adity\\appdata\\local\\programs\\python\\python310\\lib\\site-packages (from ipykernel->notebook>=4.4.1->widgetsnbextension~=3.6.5->ipywidgets<8,>=7->skillsnetwork) (5.9.5)\n",
      "Requirement already satisfied: debugpy>=1.6.5 in c:\\users\\adity\\appdata\\local\\programs\\python\\python310\\lib\\site-packages (from ipykernel->notebook>=4.4.1->widgetsnbextension~=3.6.5->ipywidgets<8,>=7->skillsnetwork) (1.6.7)\n",
      "Requirement already satisfied: arrow>=0.15.0 in c:\\users\\adity\\appdata\\local\\programs\\python\\python310\\lib\\site-packages (from isoduration->jsonschema[format-nongpl]>=3.2.0->jupyter-events>=0.6.0->jupyter-server>=1.8->nbclassic>=0.4.7->notebook>=4.4.1->widgetsnbextension~=3.6.5->ipywidgets<8,>=7->skillsnetwork) (1.2.3)\n",
      "Requirement already satisfied: asttokens>=2.1.0 in c:\\users\\adity\\appdata\\local\\programs\\python\\python310\\lib\\site-packages (from stack-data->ipython->skillsnetwork) (2.2.1)\n",
      "Requirement already satisfied: pure-eval in c:\\users\\adity\\appdata\\local\\programs\\python\\python310\\lib\\site-packages (from stack-data->ipython->skillsnetwork) (0.2.2)\n",
      "Requirement already satisfied: executing>=1.2.0 in c:\\users\\adity\\appdata\\local\\programs\\python\\python310\\lib\\site-packages (from stack-data->ipython->skillsnetwork) (1.2.0)\n",
      "Installing collected packages: widgetsnbextension, jupyterlab-widgets, ipywidgets, skillsnetwork\n",
      "  Attempting uninstall: widgetsnbextension\n",
      "    Found existing installation: widgetsnbextension 4.0.7\n",
      "    Uninstalling widgetsnbextension-4.0.7:\n",
      "      Successfully uninstalled widgetsnbextension-4.0.7\n",
      "  Attempting uninstall: jupyterlab-widgets\n",
      "    Found existing installation: jupyterlab-widgets 3.0.7\n",
      "    Uninstalling jupyterlab-widgets-3.0.7:\n",
      "      Successfully uninstalled jupyterlab-widgets-3.0.7\n",
      "  Attempting uninstall: ipywidgets\n",
      "    Found existing installation: ipywidgets 8.0.6\n",
      "    Uninstalling ipywidgets-8.0.6:\n",
      "      Successfully uninstalled ipywidgets-8.0.6\n",
      "Successfully installed ipywidgets-7.8.0 jupyterlab-widgets-1.1.5 skillsnetwork-0.20.6 widgetsnbextension-3.6.5\n"
     ]
    },
    {
     "name": "stderr",
     "output_type": "stream",
     "text": [
      "WARNING: You are using pip version 21.2.4; however, version 23.2.1 is available.\n",
      "You should consider upgrading via the 'C:\\Users\\adity\\AppData\\Local\\Programs\\Python\\Python310\\python.exe -m pip install --upgrade pip' command.\n"
     ]
    }
   ],
   "source": [
    "!pip install skillsnetwork"
   ]
  },
  {
   "cell_type": "code",
   "execution_count": 49,
   "id": "3567bde7",
   "metadata": {},
   "outputs": [],
   "source": [
    "import skillsnetwork"
   ]
  },
  {
   "cell_type": "code",
   "execution_count": 36,
   "id": "5b315515",
   "metadata": {},
   "outputs": [],
   "source": [
    "import tarfile"
   ]
  },
  {
   "cell_type": "code",
   "execution_count": 51,
   "id": "be46d7c9",
   "metadata": {},
   "outputs": [],
   "source": [
    "tar_file_path = \"C:/Users/adity/Downloads/perfume_data/perfume_data.tar\""
   ]
  },
  {
   "cell_type": "code",
   "execution_count": 54,
   "id": "f14b7d8e",
   "metadata": {},
   "outputs": [],
   "source": [
    "tar = tarfile.open(\"C:/Users/adity/Downloads/perfume_data/perfume_data.tar\")"
   ]
  },
  {
   "cell_type": "code",
   "execution_count": 55,
   "id": "26e1453f",
   "metadata": {},
   "outputs": [],
   "source": [
    "tar.extractall()"
   ]
  },
  {
   "cell_type": "code",
   "execution_count": 56,
   "id": "3451acfa",
   "metadata": {},
   "outputs": [],
   "source": [
    "tar.close()"
   ]
  },
  {
   "cell_type": "code",
   "execution_count": 57,
   "id": "401f13ff",
   "metadata": {},
   "outputs": [
    {
     "data": {
      "text/html": [
       "<div>\n",
       "<style scoped>\n",
       "    .dataframe tbody tr th:only-of-type {\n",
       "        vertical-align: middle;\n",
       "    }\n",
       "\n",
       "    .dataframe tbody tr th {\n",
       "        vertical-align: top;\n",
       "    }\n",
       "\n",
       "    .dataframe thead th {\n",
       "        text-align: right;\n",
       "    }\n",
       "</style>\n",
       "<table border=\"1\" class=\"dataframe\">\n",
       "  <thead>\n",
       "    <tr style=\"text-align: right;\">\n",
       "      <th></th>\n",
       "      <th>ï»¿Name</th>\n",
       "      <th>Brand</th>\n",
       "      <th>Description</th>\n",
       "      <th>Notes</th>\n",
       "      <th>Image URL</th>\n",
       "    </tr>\n",
       "  </thead>\n",
       "  <tbody>\n",
       "    <tr>\n",
       "      <th>0</th>\n",
       "      <td>A Blvd. Called Sunset Eau de Parfum</td>\n",
       "      <td>A Lab on Fire</td>\n",
       "      <td>There's no way A Lab On Fire could relocate t...</td>\n",
       "      <td>Bergamot, almond, violet, jasmine, leather, s...</td>\n",
       "      <td>https://static.luckyscent.com/images/products/...</td>\n",
       "    </tr>\n",
       "    <tr>\n",
       "      <th>1</th>\n",
       "      <td>Almost Transparent Blue Eau de Toilette</td>\n",
       "      <td>A Lab on Fire</td>\n",
       "      <td>Almost Transparent Blue takes the classic ele...</td>\n",
       "      <td>Lime, yuzu, thyme flower, aldehyde, hinoki, c...</td>\n",
       "      <td>https://static.luckyscent.com/images/products/...</td>\n",
       "    </tr>\n",
       "    <tr>\n",
       "      <th>2</th>\n",
       "      <td>And The World Is Yours Extrait de Parfum</td>\n",
       "      <td>A Lab on Fire</td>\n",
       "      <td>Few photographs capture the sumptuousness of ...</td>\n",
       "      <td>Neroli, cumin, orange blossom absolute, rose,...</td>\n",
       "      <td>https://static.luckyscent.com/images/products/...</td>\n",
       "    </tr>\n",
       "    <tr>\n",
       "      <th>3</th>\n",
       "      <td>California Snow Eau de Parfum</td>\n",
       "      <td>A Lab on Fire</td>\n",
       "      <td>California Snow crackles with the electricity...</td>\n",
       "      <td>Sage, tea, chamomile, coumarin, narcissus, ro...</td>\n",
       "      <td>https://static.luckyscent.com/images/products/...</td>\n",
       "    </tr>\n",
       "    <tr>\n",
       "      <th>4</th>\n",
       "      <td>Freckled and Beautiful Eau de Parfum</td>\n",
       "      <td>A Lab on Fire</td>\n",
       "      <td>There's no beauty quite like being young in t...</td>\n",
       "      <td>Orange flower, neroli, honeysuckle, warm milk...</td>\n",
       "      <td>https://static.luckyscent.com/images/products/...</td>\n",
       "    </tr>\n",
       "  </tbody>\n",
       "</table>\n",
       "</div>"
      ],
      "text/plain": [
       "                                    ï»¿Name          Brand  \\\n",
       "0       A Blvd. Called Sunset Eau de Parfum  A Lab on Fire   \n",
       "1   Almost Transparent Blue Eau de Toilette  A Lab on Fire   \n",
       "2  And The World Is Yours Extrait de Parfum  A Lab on Fire   \n",
       "3             California Snow Eau de Parfum  A Lab on Fire   \n",
       "4      Freckled and Beautiful Eau de Parfum  A Lab on Fire   \n",
       "\n",
       "                                         Description  \\\n",
       "0   There's no way A Lab On Fire could relocate t...   \n",
       "1   Almost Transparent Blue takes the classic ele...   \n",
       "2   Few photographs capture the sumptuousness of ...   \n",
       "3   California Snow crackles with the electricity...   \n",
       "4   There's no beauty quite like being young in t...   \n",
       "\n",
       "                                               Notes  \\\n",
       "0   Bergamot, almond, violet, jasmine, leather, s...   \n",
       "1   Lime, yuzu, thyme flower, aldehyde, hinoki, c...   \n",
       "2   Neroli, cumin, orange blossom absolute, rose,...   \n",
       "3   Sage, tea, chamomile, coumarin, narcissus, ro...   \n",
       "4   Orange flower, neroli, honeysuckle, warm milk...   \n",
       "\n",
       "                                           Image URL  \n",
       "0  https://static.luckyscent.com/images/products/...  \n",
       "1  https://static.luckyscent.com/images/products/...  \n",
       "2  https://static.luckyscent.com/images/products/...  \n",
       "3  https://static.luckyscent.com/images/products/...  \n",
       "4  https://static.luckyscent.com/images/products/...  "
      ]
     },
     "execution_count": 57,
     "metadata": {},
     "output_type": "execute_result"
    }
   ],
   "source": [
    "df = pd.read_csv(\"./perfume_data.csv\", encoding=\"unicode_escape\")\n",
    "df.head()"
   ]
  },
  {
   "cell_type": "code",
   "execution_count": 58,
   "id": "57ef6570",
   "metadata": {},
   "outputs": [
    {
     "data": {
      "text/plain": [
       "[' Bergamot, almond, violet, jasmine, leather, sandalwood, vanilla, tonka',\n",
       " ' Lime, yuzu, thyme flower, aldehyde, hinoki, cedar wood, musk',\n",
       " ' Neroli, cumin, orange blossom absolute, rose, heliotrope, sandalwood, vanilla pod CO2,  tonka absolute, tolu balsam',\n",
       " ' Sage, tea, chamomile, coumarin, narcissus, rose, hay, cannabis, musk, soil tincture, vetiver, cedar',\n",
       " ' Orange flower, neroli, honeysuckle, warm milk, pastry, salicylates, sandalwood, vanilla bean, heliotrope',\n",
       " ' Ambrette, bergamot, pink pepper, violet, orris, iriseine, suede, blonde woods, musks',\n",
       " ' Juniper, mastic, black pepper, sea salt, clary sage, orris root, olibanum, solar accord, ambergris, vetiver, mineral musks, wet woods, ambrox, sea moss',\n",
       " ' Bergamot, lime, saffron, sage, lavender, Hinoki wood, incense, vanilla, musk',\n",
       " ' Safran, magnolia petals, Italian mandarin, jasmine sambac, tuberose, orange flower, cereal accord, orris, natural vanilla bean.',\n",
       " ' Bergamot, peach blossom, rose, heliotrope, musk, toffee, amber, white woods, vanilla, tonka bean']"
      ]
     },
     "execution_count": 58,
     "metadata": {},
     "output_type": "execute_result"
    }
   ],
   "source": [
    "list(df.Notes[0:10])"
   ]
  },
  {
   "cell_type": "code",
   "execution_count": 59,
   "id": "c316786c",
   "metadata": {},
   "outputs": [
    {
     "data": {
      "text/html": [
       "<div>\n",
       "<style scoped>\n",
       "    .dataframe tbody tr th:only-of-type {\n",
       "        vertical-align: middle;\n",
       "    }\n",
       "\n",
       "    .dataframe tbody tr th {\n",
       "        vertical-align: top;\n",
       "    }\n",
       "\n",
       "    .dataframe thead th {\n",
       "        text-align: right;\n",
       "    }\n",
       "</style>\n",
       "<table border=\"1\" class=\"dataframe\">\n",
       "  <thead>\n",
       "    <tr style=\"text-align: right;\">\n",
       "      <th></th>\n",
       "      <th>Name</th>\n",
       "      <th>Notes</th>\n",
       "    </tr>\n",
       "  </thead>\n",
       "  <tbody>\n",
       "    <tr>\n",
       "      <th>0</th>\n",
       "      <td>A Lab on Fire - A Blvd. Called Sunset Eau de P...</td>\n",
       "      <td>Bergamot, almond, violet, jasmine, leather, s...</td>\n",
       "    </tr>\n",
       "    <tr>\n",
       "      <th>1</th>\n",
       "      <td>A Lab on Fire - Almost Transparent Blue Eau de...</td>\n",
       "      <td>Lime, yuzu, thyme flower, aldehyde, hinoki, c...</td>\n",
       "    </tr>\n",
       "    <tr>\n",
       "      <th>2</th>\n",
       "      <td>A Lab on Fire - And The World Is Yours Extrait...</td>\n",
       "      <td>Neroli, cumin, orange blossom absolute, rose,...</td>\n",
       "    </tr>\n",
       "    <tr>\n",
       "      <th>3</th>\n",
       "      <td>A Lab on Fire - California Snow Eau de Parfum</td>\n",
       "      <td>Sage, tea, chamomile, coumarin, narcissus, ro...</td>\n",
       "    </tr>\n",
       "    <tr>\n",
       "      <th>4</th>\n",
       "      <td>A Lab on Fire - Freckled and Beautiful Eau de ...</td>\n",
       "      <td>Orange flower, neroli, honeysuckle, warm milk...</td>\n",
       "    </tr>\n",
       "  </tbody>\n",
       "</table>\n",
       "</div>"
      ],
      "text/plain": [
       "                                                Name  \\\n",
       "0  A Lab on Fire - A Blvd. Called Sunset Eau de P...   \n",
       "1  A Lab on Fire - Almost Transparent Blue Eau de...   \n",
       "2  A Lab on Fire - And The World Is Yours Extrait...   \n",
       "3      A Lab on Fire - California Snow Eau de Parfum   \n",
       "4  A Lab on Fire - Freckled and Beautiful Eau de ...   \n",
       "\n",
       "                                               Notes  \n",
       "0   Bergamot, almond, violet, jasmine, leather, s...  \n",
       "1   Lime, yuzu, thyme flower, aldehyde, hinoki, c...  \n",
       "2   Neroli, cumin, orange blossom absolute, rose,...  \n",
       "3   Sage, tea, chamomile, coumarin, narcissus, ro...  \n",
       "4   Orange flower, neroli, honeysuckle, warm milk...  "
      ]
     },
     "execution_count": 59,
     "metadata": {},
     "output_type": "execute_result"
    }
   ],
   "source": [
    "df.rename(columns={\"ï»¿Name\": \"Name\"}, inplace=True)\n",
    "df['Name'] = df['Brand'] + \" - \" + df['Name']\n",
    "df.drop(labels=['Description', 'Image URL', 'Brand'], axis=1, inplace=True)\n",
    "df.head()"
   ]
  },
  {
   "cell_type": "code",
   "execution_count": 60,
   "id": "86eef85e",
   "metadata": {},
   "outputs": [
    {
     "data": {
      "text/plain": [
       "79"
      ]
     },
     "execution_count": 60,
     "metadata": {},
     "output_type": "execute_result"
    }
   ],
   "source": [
    "df.Notes.isnull().sum()"
   ]
  },
  {
   "cell_type": "code",
   "execution_count": 61,
   "id": "20e9c424",
   "metadata": {},
   "outputs": [
    {
     "data": {
      "text/plain": [
       "(2097, 2)"
      ]
     },
     "execution_count": 61,
     "metadata": {},
     "output_type": "execute_result"
    }
   ],
   "source": [
    "df.dropna(inplace = True)\n",
    "df.reset_index(inplace=True, drop = True)\n",
    "df.shape"
   ]
  },
  {
   "cell_type": "code",
   "execution_count": 62,
   "id": "fdcff732",
   "metadata": {},
   "outputs": [],
   "source": [
    "words = [\"Perfume Oil\", \"Extrait\", \"Travel\", \"Hair\", \"Body\", \"Hand\", \"Intense\", \"Intensivo\", \"Oil\"] # check for these words in perfume names\n",
    "\n",
    "index_to_drop = []\n",
    "for index, name in enumerate(df.Name):\n",
    "    if any(word.lower() in name.lower() for word in words):\n",
    "        index_to_drop.append(index)"
   ]
  },
  {
   "cell_type": "code",
   "execution_count": 63,
   "id": "b6dfc222",
   "metadata": {},
   "outputs": [
    {
     "data": {
      "text/plain": [
       "(1604, 2)"
      ]
     },
     "execution_count": 63,
     "metadata": {},
     "output_type": "execute_result"
    }
   ],
   "source": [
    "df.drop(index_to_drop, axis=0, inplace=True)\n",
    "df.reset_index(inplace=True, drop = True)\n",
    "df.shape"
   ]
  },
  {
   "cell_type": "code",
   "execution_count": 64,
   "id": "73602a1c",
   "metadata": {},
   "outputs": [
    {
     "data": {
      "text/plain": [
       "1604"
      ]
     },
     "execution_count": 64,
     "metadata": {},
     "output_type": "execute_result"
    }
   ],
   "source": [
    "df.Notes = df.Notes.apply(lambda x: str(x))\n",
    "notes = df.Notes.to_list()\n",
    "len(notes)"
   ]
  },
  {
   "cell_type": "code",
   "execution_count": 65,
   "id": "2331a77e",
   "metadata": {},
   "outputs": [
    {
     "data": {
      "application/vnd.jupyter.widget-view+json": {
       "model_id": "5ff20ab7dbaf4df8848946cfce9afc6b",
       "version_major": 2,
       "version_minor": 0
      },
      "text/plain": [
       "Batches:   0%|          | 0/26 [00:00<?, ?it/s]"
      ]
     },
     "metadata": {},
     "output_type": "display_data"
    }
   ],
   "source": [
    "model = SentenceTransformer('all-MiniLM-L6-v2')\n",
    "\n",
    "note_embeddings = model.encode(notes, show_progress_bar=True, batch_size=64)"
   ]
  },
  {
   "cell_type": "code",
   "execution_count": 66,
   "id": "5bc7bbd0",
   "metadata": {},
   "outputs": [
    {
     "name": "stdout",
     "output_type": "stream",
     "text": [
      "(1604, 384)\n",
      "[-0.00536174 -0.08962226  0.03425573  0.07611445  0.04399084  0.09172302\n",
      "  0.03116251 -0.05357344  0.01305529 -0.03158848  0.08101199 -0.05667508\n",
      " -0.02744407 -0.07322728  0.03848419  0.05993799  0.1101388   0.02569334\n",
      " -0.03124173  0.00807242  0.01832662 -0.00012893  0.00550093  0.02377415\n",
      "  0.01978639  0.02632319  0.02199204 -0.00831315  0.00776821 -0.12470713\n",
      "  0.03724478 -0.00188033  0.06668041  0.01159844 -0.05619041  0.01826878\n",
      " -0.07010398 -0.11917054  0.0631799   0.06150827 -0.01092714  0.00840747\n",
      " -0.00403328 -0.02480973 -0.01124479 -0.0303256   0.03361208  0.00046362\n",
      " -0.00190013  0.0766108 ]\n"
     ]
    }
   ],
   "source": [
    "print(note_embeddings.shape)\n",
    "\n",
    "print(note_embeddings[0][:50]) # first 50 values in the embedding of \"Vanilla bean, musks\""
   ]
  },
  {
   "cell_type": "code",
   "execution_count": 67,
   "id": "6739af79",
   "metadata": {},
   "outputs": [
    {
     "data": {
      "text/plain": [
       "torch.Size([1604, 1604])"
      ]
     },
     "execution_count": 67,
     "metadata": {},
     "output_type": "execute_result"
    }
   ],
   "source": [
    "cosine_scores = util.cos_sim(note_embeddings, note_embeddings)\n",
    "cosine_scores.shape"
   ]
  },
  {
   "cell_type": "code",
   "execution_count": 68,
   "id": "1df0efa7",
   "metadata": {},
   "outputs": [
    {
     "data": {
      "text/plain": [
       "1285606"
      ]
     },
     "execution_count": 68,
     "metadata": {},
     "output_type": "execute_result"
    }
   ],
   "source": [
    "pairs = []\n",
    "\n",
    "for i in range(len(cosine_scores)-1):\n",
    "    for j in range(i+1, len(cosine_scores)):\n",
    "        pairs.append({\"index\": [i,j], \"score\": cosine_scores[i][j]})\n",
    "\n",
    "len(pairs)"
   ]
  },
  {
   "cell_type": "code",
   "execution_count": 69,
   "id": "380cfb0b",
   "metadata": {},
   "outputs": [
    {
     "name": "stdout",
     "output_type": "stream",
     "text": [
      "Comme des Garcons - 2 Eau de Parfum | Comme des Garcons - 2 Candle \n",
      " Score: 1.00 \n",
      "\n",
      "Roja Parfums - Elysium Parfum Cologne | Roja Parfums - Vetiver Parfum Cologne \n",
      " Score: 1.00 \n",
      "\n",
      "Ormonde Jayne - Ormonde Elixir Parfum | Ormonde Jayne - Ormonde Woman Eau de Parfum \n",
      " Score: 0.98 \n",
      "\n",
      "PARFUMS DE NICOLAI - Incense Oud Eau de Parfum | PARFUMS DE NICOLAI - Oud Sublime Elixir de Parfum \n",
      " Score: 0.97 \n",
      "\n",
      "J-Scent - Hisui (Jade) Eau de Parfum | J-Scent - Shaft of Light Eau de Parfum \n",
      " Score: 0.95 \n",
      "\n",
      "Roja Parfums - Danger Parfum Cologne | Roja Parfums - Scandal Parfum Cologne \n",
      " Score: 0.94 \n",
      "\n",
      "Xerjoff - Oud Stars - Alexandria II Eau de Parfum | Xerjoff - Oud Stars - Alexandria III Parfum \n",
      " Score: 0.94 \n",
      "\n",
      "Charenton Macerations - Asphalt Rainbow Eau de Parfum | Charenton Macerations - Asphalt Rainbow Scratch & Sniff Sticker Set \n",
      " Score: 0.94 \n",
      "\n",
      "Ormonde Jayne - Ambre Royal Eau de Parfum | Ormonde Jayne - Royal Elixir Parfum \n",
      " Score: 0.94 \n",
      "\n",
      "Les Bains Guerbois - 2015 Le Phenix Eau de Parfum | Les Bains Guerbois - Eau de Cologne \n",
      " Score: 0.93 \n",
      "\n"
     ]
    }
   ],
   "source": [
    "sorted_pairs = sorted(pairs, key=lambda x: x['score'], reverse=True)\n",
    "\n",
    "for pair in sorted_pairs[0:10]:\n",
    "    i, j = pair['index']\n",
    "    print(f\"{df.iloc[i, 0]} | {df.iloc[j, 0]} \\n Score: {pair['score']:.2f} \\n\")"
   ]
  },
  {
   "cell_type": "code",
   "execution_count": 70,
   "id": "a19715bc",
   "metadata": {},
   "outputs": [
    {
     "data": {
      "text/html": [
       "<div>\n",
       "<style scoped>\n",
       "    .dataframe tbody tr th:only-of-type {\n",
       "        vertical-align: middle;\n",
       "    }\n",
       "\n",
       "    .dataframe tbody tr th {\n",
       "        vertical-align: top;\n",
       "    }\n",
       "\n",
       "    .dataframe thead th {\n",
       "        text-align: right;\n",
       "    }\n",
       "</style>\n",
       "<table border=\"1\" class=\"dataframe\">\n",
       "  <thead>\n",
       "    <tr style=\"text-align: right;\">\n",
       "      <th></th>\n",
       "      <th>Name</th>\n",
       "      <th>Notes</th>\n",
       "    </tr>\n",
       "  </thead>\n",
       "  <tbody>\n",
       "    <tr>\n",
       "      <th>0</th>\n",
       "      <td>Jo Malone - English Pear &amp; Freesia</td>\n",
       "      <td>Pear, Melon, Freesia, Rose, Musk, Patchouli, R...</td>\n",
       "    </tr>\n",
       "    <tr>\n",
       "      <th>1</th>\n",
       "      <td>Jo Malone - Myrrh &amp; Tonka</td>\n",
       "      <td>Lavender, Myrrh, Tonka Bean, Vanilla, Almond</td>\n",
       "    </tr>\n",
       "    <tr>\n",
       "      <th>2</th>\n",
       "      <td>Jo Malone - Oud &amp; Bergamot</td>\n",
       "      <td>orange, bergamot, lemon, cedar and oud.</td>\n",
       "    </tr>\n",
       "    <tr>\n",
       "      <th>3</th>\n",
       "      <td>Guerlain - Néroli Outrenoir</td>\n",
       "      <td>Petitgrain, Bergamot, Tangerine, Lemon, Grapef...</td>\n",
       "    </tr>\n",
       "    <tr>\n",
       "      <th>4</th>\n",
       "      <td>Guerlain - Épices Volées</td>\n",
       "      <td>Coriander, Lemon, Artemisia, Bergamot, Clove, ...</td>\n",
       "    </tr>\n",
       "    <tr>\n",
       "      <th>5</th>\n",
       "      <td>Guerlain - Aqua Allegoria Nerolia Vetiver Eau ...</td>\n",
       "      <td>Basil, Vetiver, Fig Accord, Neroli</td>\n",
       "    </tr>\n",
       "    <tr>\n",
       "      <th>6</th>\n",
       "      <td>Chloe Eau de Parfum</td>\n",
       "      <td>Peony, Litchi, Freesia, Rose, Lily-of-the-Vall...</td>\n",
       "    </tr>\n",
       "  </tbody>\n",
       "</table>\n",
       "</div>"
      ],
      "text/plain": [
       "                                                Name  \\\n",
       "0                 Jo Malone - English Pear & Freesia   \n",
       "1                          Jo Malone - Myrrh & Tonka   \n",
       "2                         Jo Malone - Oud & Bergamot   \n",
       "3                        Guerlain - Néroli Outrenoir   \n",
       "4                           Guerlain - Épices Volées   \n",
       "5  Guerlain - Aqua Allegoria Nerolia Vetiver Eau ...   \n",
       "6                                Chloe Eau de Parfum   \n",
       "\n",
       "                                               Notes  \n",
       "0  Pear, Melon, Freesia, Rose, Musk, Patchouli, R...  \n",
       "1       Lavender, Myrrh, Tonka Bean, Vanilla, Almond  \n",
       "2            orange, bergamot, lemon, cedar and oud.  \n",
       "3  Petitgrain, Bergamot, Tangerine, Lemon, Grapef...  \n",
       "4  Coriander, Lemon, Artemisia, Bergamot, Clove, ...  \n",
       "5                 Basil, Vetiver, Fig Accord, Neroli  \n",
       "6  Peony, Litchi, Freesia, Rose, Lily-of-the-Vall...  "
      ]
     },
     "execution_count": 70,
     "metadata": {},
     "output_type": "execute_result"
    }
   ],
   "source": [
    "my_perfumes = pd.DataFrame([['Jo Malone - English Pear & Freesia', 'Pear, Melon, Freesia, Rose, Musk, Patchouli, Rhuburb, Amber'], \n",
    "                      ['Jo Malone - Myrrh & Tonka', 'Lavender, Myrrh, Tonka Bean, Vanilla, Almond'],\n",
    "                      ['Jo Malone - Oud & Bergamot', 'orange, bergamot, lemon, cedar and oud.'],\n",
    "                      ['Guerlain - Néroli Outrenoir', 'Petitgrain, Bergamot, Tangerine, Lemon, Grapefruit, Tea, Neroli, Orange Blossom, Smoke, Earthy Notes, Myrrh, Vanilla, Benzoin, Ambrette, Oakmoss.'],\n",
    "                      ['Guerlain - Épices Volées', 'Coriander, Lemon, Artemisia, Bergamot, Clove, Cardamom, Sage, Bulgarian Rose, Sandalwood, Patchouli, Benzoin, Labdanum.'],\n",
    "                      ['Guerlain - Aqua Allegoria Nerolia Vetiver Eau de Toilette', 'Basil, Vetiver, Fig Accord, Neroli'],\n",
    "                      ['Chloe Eau de Parfum', 'Peony, Litchi, Freesia, Rose, Lily-of-the-Valley, Magnolia, Virginia Cedar, Amber.']                     \n",
    "                     ],\n",
    "                   columns=df.columns)\n",
    "\n",
    "my_perfumes"
   ]
  },
  {
   "cell_type": "code",
   "execution_count": 71,
   "id": "abf1c9f4",
   "metadata": {},
   "outputs": [
    {
     "data": {
      "application/vnd.jupyter.widget-view+json": {
       "model_id": "a3dcc6e58d0446d6be7e93d5a3e0df29",
       "version_major": 2,
       "version_minor": 0
      },
      "text/plain": [
       "Batches:   0%|          | 0/1 [00:00<?, ?it/s]"
      ]
     },
     "metadata": {},
     "output_type": "display_data"
    }
   ],
   "source": [
    "notes = list(my_perfumes.Notes)\n",
    "\n",
    "model = SentenceTransformer('all-MiniLM-L6-v2')\n",
    "my_embeddings = model.encode(notes, show_progress_bar=True)"
   ]
  },
  {
   "cell_type": "code",
   "execution_count": 72,
   "id": "7185922d",
   "metadata": {},
   "outputs": [],
   "source": [
    "cosine_scores = util.cos_sim(my_embeddings, note_embeddings)"
   ]
  },
  {
   "cell_type": "code",
   "execution_count": 74,
   "id": "42701f3e",
   "metadata": {},
   "outputs": [],
   "source": [
    "my_pairs=[]\n",
    "\n",
    "for i in range(cosine_scores.shape[0]):\n",
    "    for j in range(cosine_scores.shape[1]):\n",
    "        my_pairs.append({\"index\": [i,j], \"score\": cosine_scores[i][j]})\n",
    "        \n",
    "        \n",
    "my_sorted_pairs = sorted(my_pairs, key=lambda x: x['score'], reverse=True)"
   ]
  },
  {
   "cell_type": "code",
   "execution_count": 75,
   "id": "1f5decc5",
   "metadata": {},
   "outputs": [
    {
     "name": "stdout",
     "output_type": "stream",
     "text": [
      "Recommended for Jo Malone - English Pear & Freesia:\n",
      " 1. Alexandre. J - Silver Ombre Eau de Parfum (Score: 0.80)\n",
      " 2. Montale - Starry Nights Eau de Parfum (Score: 0.79)\n",
      " 3. BDK Parfums - Bouquet de Hongrie Eau de Parfum (Score: 0.79)\n",
      " 4. Jovoy Paris - Psychedelique Eau de Parfum (Score: 0.79)\n",
      " 5. L'Artisan Parfumeur - Champ de Fleurs Eau de Cologne (Score: 0.78)\n",
      "\n",
      "\n",
      "Recommended for Jo Malone - Myrrh & Tonka:\n",
      " 1. Parfum d'Empire - Fougere Bengale Eau de Parfum (Score: 0.86)\n",
      " 2. Tauer Perfumes - Une Rose Vermeille Eau de Parfum (Score: 0.84)\n",
      " 3. Xerjoff - 1861 - Naxos Eau de Parfum (Score: 0.83)\n",
      " 4. PARFUMS DE NICOLAI - Amber Oud Eau de Parfum (Score: 0.83)\n",
      " 5. Reims Parfums - L'Eau des Sacres (Score: 0.80)\n",
      "\n",
      "\n",
      "Recommended for Jo Malone - Oud & Bergamot:\n",
      " 1. Comme des Garcons: Cologne - Citrico (Score: 0.85)\n",
      " 2. The House Of Oud - Cypress Shade Eau de Parfum (Score: 0.76)\n",
      " 3. Xerjoff - Blue Hope Eau de Parfum (Score: 0.76)\n",
      " 4. L'Artisan Parfumeur - Au Bord De L'Eau Eau de Cologne (Score: 0.76)\n",
      " 5. Gravel - Across The Ocean Eau de Parfum (Score: 0.76)\n",
      "\n",
      "\n",
      "Recommended for Guerlain - Néroli Outrenoir:\n",
      " 1. MEMO - Winter Palace Eau de Parfum (Score: 0.83)\n",
      " 2. ANFAS - Purple Sakan (Score: 0.83)\n",
      " 3. The House Of Oud - Just Before Eau de Parfum (Score: 0.83)\n",
      " 4. Penhaligons - Halfeti Eau de Parfum (Score: 0.83)\n",
      " 5. Parfums MDCI - Le Barbier de Tanger Eau de Parfum (Score: 0.83)\n",
      "\n",
      "\n",
      "Recommended for Guerlain - Épices Volées:\n",
      " 1. Costume National - Homme Eau de Parfum (Score: 0.86)\n",
      " 2. Roja Parfums - Creation-E Parfum Cologne (Score: 0.85)\n",
      " 3. Parfums MDCI - Les Indes Galantes Eau de Parfum (Score: 0.84)\n",
      " 4. Boadicea the Victorious - Ardent Eau de Parfum (Score: 0.83)\n",
      " 5. Timothy Han Edition Perfumes - She Came to Stay Eau de Parfum (Score: 0.83)\n",
      "\n",
      "\n",
      "Recommended for Guerlain - Aqua Allegoria Nerolia Vetiver Eau de Toilette:\n",
      " 1. Liquides Imaginaires - Tellus Eau de Parfum (Score: 0.61)\n",
      " 2. BYREDO - Oud Immortel Eau de Parfum (Score: 0.61)\n",
      " 3. Vilhelm Parfumerie - Basilico & Fellini Eau de Parfum (Score: 0.60)\n",
      " 4. Nanadebary - Green Eau de Parfum (Score: 0.60)\n",
      " 5. Reims Parfums - L'Eau de Reims (Score: 0.58)\n",
      "\n",
      "\n",
      "Recommended for Chloe Eau de Parfum:\n",
      " 1. Caron - French Cancan - Eau de Parfum (Score: 0.77)\n",
      " 2. Ormonde Jayne - Frangipani Eau de Parfum (Score: 0.76)\n",
      " 3. Floris London - 1962 Eau de Parfum (Score: 0.74)\n",
      " 4. Parfums MDCI - Rose de Siwa Eau de Parfum (Score: 0.73)\n",
      " 5. PARFUMS DE NICOLAI - Rose Oud Eau de Parfum (Score: 0.73)\n",
      "\n",
      "\n"
     ]
    }
   ],
   "source": [
    "for i in range(cosine_scores.shape[0]):\n",
    "\n",
    "    print(f\"Recommended for {my_perfumes.iloc[i, 0]}:\")\n",
    "    my_pairs = []\n",
    "    for j in range(cosine_scores.shape[1]):\n",
    "        my_pairs.append({\"index\": j, \"score\": cosine_scores[i][j]})\n",
    "        my_sorted_pairs = sorted(my_pairs, key=lambda x: x['score'], reverse=True)\n",
    "        \n",
    "    for no, pair in enumerate(my_sorted_pairs[:5]):\n",
    "        print(f\" {no+1}. {df.iloc[pair['index'], 0]} (Score: {pair['score']:.2f})\")\n",
    "    print(\"\\n\")"
   ]
  },
  {
   "cell_type": "code",
   "execution_count": null,
   "id": "3886763b",
   "metadata": {},
   "outputs": [],
   "source": []
  }
 ],
 "metadata": {
  "kernelspec": {
   "display_name": "Python 3 (ipykernel)",
   "language": "python",
   "name": "python3"
  },
  "language_info": {
   "codemirror_mode": {
    "name": "ipython",
    "version": 3
   },
   "file_extension": ".py",
   "mimetype": "text/x-python",
   "name": "python",
   "nbconvert_exporter": "python",
   "pygments_lexer": "ipython3",
   "version": "3.10.1"
  }
 },
 "nbformat": 4,
 "nbformat_minor": 5
}
